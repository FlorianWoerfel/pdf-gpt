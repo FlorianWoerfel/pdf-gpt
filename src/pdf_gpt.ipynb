{
 "cells": [
  {
   "cell_type": "code",
   "execution_count": null,
   "metadata": {},
   "outputs": [],
   "source": [
    "# Import the parser and openai packages\n",
    "import PyPDF2\n",
    "import openai\n",
    "import os"
   ]
  },
  {
   "cell_type": "code",
   "execution_count": null,
   "metadata": {},
   "outputs": [],
   "source": [
    "# Retrieve your api key from env var\n",
    "openai.api_key =  os.environ.get(\"OPENAI_API_KEY\")"
   ]
  },
  {
   "cell_type": "code",
   "execution_count": null,
   "metadata": {},
   "outputs": [],
   "source": [
    "# Get list of fils in sub dir\n",
    "files = os.listdir('./files')\n",
    "file_paths = [\"files/\" + file for file in files]\n",
    "file_paths"
   ]
  },
  {
   "cell_type": "code",
   "execution_count": null,
   "metadata": {},
   "outputs": [],
   "source": [
    "# Function to extract the texts from provided pdfs\n",
    "def extract_text(file_path: str) -> str:\n",
    "    \n",
    "    # Open the PDF files in binary mode \n",
    "    with open(file_path, 'rb') as pdf_file:    \n",
    "        \n",
    "        #Create a PdfReader object and read the PDF file\n",
    "        pdf_reader = PyPDF2.PdfReader(pdf_file)\n",
    "    \n",
    "        # Initialize an empty string to store the extracted text\n",
    "        text = \"\"\n",
    "        \n",
    "        #Iterate over each page in the PDF and extract the text\n",
    "        for page in pdf_reader.pages:\n",
    "            text += page.extract_text()\n",
    "    \n",
    "    return text"
   ]
  },
  {
   "cell_type": "code",
   "execution_count": null,
   "metadata": {},
   "outputs": [],
   "source": [
    "# List of text to pass to GPT\n",
    "texts = [extract_text(file_path) for file_path in file_paths]\n",
    "\n",
    "# Enter the prompt here\n",
    "prompt =  \"What is this text about: \""
   ]
  },
  {
   "cell_type": "code",
   "execution_count": null,
   "metadata": {},
   "outputs": [],
   "source": [
    "# Function to prompt and pass the texts to the openai api\n",
    "def gpt_completion(user_prompt: str, user_content: str) -> dict:\n",
    "    completion = openai.ChatCompletion.create(\n",
    "      model=\"gpt-3.5-turbo\",\n",
    "      messages=[\n",
    "        {\"role\": \"system\", \"content\": \"You are a helpful assistant.\"},\n",
    "        {\"role\": \"user\", \"content\": user_prompt + user_content}\n",
    "      ]\n",
    "    )\n",
    "    gpt_message = completion.choices[0].message\n",
    "    return gpt_message\n",
    "# print(gpt_completion(prompt, texts[0]))"
   ]
  },
  {
   "cell_type": "code",
   "execution_count": null,
   "metadata": {},
   "outputs": [],
   "source": [
    "# Loop trough texts and list the messages\n",
    "messages = [gpt_completion(prompt, text) for text in texts]\n",
    "messages"
   ]
  },
  {
   "cell_type": "code",
   "execution_count": null,
   "metadata": {},
   "outputs": [],
   "source": []
  }
 ],
 "metadata": {
  "kernelspec": {
   "display_name": "Python 3 (ipykernel)",
   "language": "python",
   "name": "python3"
  },
  "language_info": {
   "codemirror_mode": {
    "name": "ipython",
    "version": 3
   },
   "file_extension": ".py",
   "mimetype": "text/x-python",
   "name": "python",
   "nbconvert_exporter": "python",
   "pygments_lexer": "ipython3",
   "version": "3.10.6"
  }
 },
 "nbformat": 4,
 "nbformat_minor": 4
}
